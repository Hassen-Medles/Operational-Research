{
 "cells": [
  {
   "cell_type": "markdown",
   "metadata": {},
   "source": [
    "# Projet Recherche opérationnelle"
   ]
  },
  {
   "cell_type": "markdown",
   "metadata": {},
   "source": [
    "## Contexte\n",
    "\n",
    "Depuis plusieurs années, face au changement climatique, réduire les émissions de gaz à effet de serre est devenu une priorité. Le secteur des transports est l’un des plus gros émetteurs, en particulier à cause des déplacements quotidiens et des livraisons. C’est dans ce contexte que l’ADEME (Agence de la transition écologique) a lancé un appel à projets pour encourager de nouvelles idées en matière de mobilité intelligente, plus respectueuse de l’environnement.\n",
    "\n",
    "Notre équipe souhaite répondre à cet appel en développant une solution permettant de mieux organiser les tournées de transport. L’objectif est de limiter les trajets et la consommation de carburant tout en respectant certaines contraintes, comme les horaires de livraison, les routes disponibles ou encore la capacité des véhicules.\n",
    "\n",
    "Ce premier livrable a pour but de modéliser ce problème de manière claire et précise. Nous allons décrire les données utilisées, les règles du problème et ce que l’on cherche à optimiser. Cette étape est essentielle pour pouvoir ensuite créer et tester des algorithmes capables de trouver des solutions efficaces à ce problème. Elle permettra aussi d’identifier les difficultés du problème et d’expliquer pourquoi il est compliqué à résoudre."
   ]
  },
  {
   "cell_type": "markdown",
   "metadata": {},
   "source": [
    "## Formulation formelle du problème"
   ]
  },
  {
   "cell_type": "markdown",
   "metadata": {},
   "source": [
    "Le problème à résoudre est une version étendue du **problème du voyageur de commerce (TSP)**, appelé **problème de tournées de véhicules** (VRP pour *Vehicle Routing Problem*)."
   ]
  },
  {
   "cell_type": "markdown",
   "metadata": {},
   "source": [
    "## Données du problème"
   ]
  },
  {
   "cell_type": "markdown",
   "id": "9c2d5852",
   "metadata": {},
   "source": [
    "### Représentation du graphe\n",
    "\n",
    "Le système est modélisé par un **graphe orienté et pondéré** : $ G = (V, E) $\n",
    "\n",
    "avec :\n",
    "- $ V = \\{v_0, v_1, \\dots, v_n\\} $   Ensemble des **sommets**, représentant les villes ou les points à visiter.\n",
    "\n",
    "- $ E \\subseteq V \\times V $  Ensemble des **arêtes**, représentant les routes entre les villes.\n",
    "\n",
    "- Chaque arête $ (v_i, v_j) \\in \\ E $ est associée à un **coût** : $ c_{ij} \\in \\mathbb{R}^{+} $. Ce coût peut représenter un **temps de trajet**, une **distance** ou un **coût monétaire**.\n",
    "\n",
    "- Un dépôt $ v_0 $ (point de départ et d’arrivée des tournées)\n",
    "\n",
    "- Un ensemble de $ k $ véhicules, chacun ayant une tournée qui commence et se termine à $ v_0 $\n",
    "\n"
   ]
  },
  {
   "cell_type": "markdown",
   "metadata": {},
   "source": [
    "### Objectif\n",
    "\n",
    "Trouver un ensemble de $ k $ tournées (une par véhicule) telles que :\n",
    "\n",
    "- Chaque client est visité une seule fois par un seul véhicule\n",
    "- Le coût total des tournées est **minimisé** (ex. : distance, temps ou coût total)\n"
   ]
  },
  {
   "cell_type": "markdown",
   "metadata": {},
   "source": [
    "### Contraintes\n",
    "\n",
    "Nous avons choisi d’intégrer deux contraintes supplémentaires au problème de base :\n",
    "\n",
    "1. **Utilisation de plusieurs véhicules** : chaque véhicule part du dépôt, visite des clients, puis revient au dépôt.\n",
    "2. **Coût ou restriction de passage sur certaines arêtes** : certaines routes peuvent avoir un coût plus élevé (par exemple, travaux ou routes bloquées)"
   ]
  },
  {
   "cell_type": "markdown",
   "id": "a0578aa4",
   "metadata": {},
   "source": [
    "### Analyse de la complexité\n",
    "\n",
    "Le problème du voyageur de commerce (TSP) est un problème classique **NP-difficile**. Cela signifie qu’il est très difficile (et long) à résoudre exactement quand le nombre de villes devient grand.\n",
    "\n",
    "Le **VRP** avec plusieurs véhicules et des contraintes sur les routes est encore plus complexe :\n",
    "\n",
    "- Il faut non seulement trouver un chemin optimal, mais aussi gérer plusieurs tournées et éviter certaines routes ou en minimiser le coût.\n",
    "- Ce problème fait aussi partie de la classe **NP-difficile**, ce qui veut dire qu’il n’existe pas d’algorithme connu capable de le résoudre rapidement dans tous les cas.\n",
    "\n",
    "En pratique, cela nous oblige à utiliser des **méthodes approchées** ou des **heuristiques** pour obtenir des solutions satisfaisantes dans un temps raisonnable."
   ]
  },
  {
   "cell_type": "markdown",
   "id": "313a985c",
   "metadata": {},
   "source": [
    "### Références utiles\n",
    "\n",
    "- https://fr.wikipedia.org/wiki/Probl%C3%A8me_du_voyageur_de_commerce\n",
    "- https://fr.wikipedia.org/wiki/Probl%C3%A8me_de_tourn%C3%A9es_de_v%C3%A9hicules\n",
    "- Workshop"
   ]
  }
 ],
 "metadata": {
  "language_info": {
   "name": "python"
  }
 },
 "nbformat": 4,
 "nbformat_minor": 5
}
