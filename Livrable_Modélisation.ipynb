{
 "cells": [
  {
   "cell_type": "markdown",
   "metadata": {},
   "source": [
    "# Projet Recherche opérationnelle"
   ]
  },
  {
   "cell_type": "markdown",
   "metadata": {},
   "source": [
    "## Contexte\n",
    "\n",
    "Depuis plusieurs années, face au changement climatique, réduire les émissions de gaz à effet de serre est devenu une priorité. Le secteur des transports est l’un des plus gros émetteurs, en particulier à cause des déplacements quotidiens et des livraisons. C’est dans ce contexte que l’ADEME (Agence de la transition écologique) a lancé un appel à projets pour encourager de nouvelles idées en matière de mobilité intelligente, plus respectueuse de l’environnement.\n",
    "\n",
    "Notre équipe souhaite répondre à cet appel en développant une solution permettant de mieux organiser les tournées de transport. L’objectif est de limiter les trajets et la consommation de carburant tout en respectant certaines contraintes, comme les horaires de livraison, les routes disponibles ou encore la capacité des véhicules.\n",
    "\n",
    "Ce premier livrable a pour but de modéliser ce problème de manière claire et précise. Nous allons décrire les données utilisées, les règles du problème et ce que l’on cherche à optimiser. Cette étape est essentielle pour pouvoir ensuite créer et tester des algorithmes capables de trouver des solutions efficaces à ce problème. Elle permettra aussi d’identifier les difficultés du problème et d’expliquer pourquoi il est compliqué à résoudre."
   ]
  },
  {
   "cell_type": "markdown",
   "metadata": {},
   "source": [
    "## Formulation formelle du problème"
   ]
  },
  {
   "cell_type": "markdown",
   "metadata": {},
   "source": [
    "Le problème à résoudre est une version étendue du **problème du voyageur de commerce (TSP)**, appelé **problème de tournées de véhicules** (VRP pour *Vehicle Routing Problem*)."
   ]
  },
  {
   "cell_type": "markdown",
   "metadata": {},
   "source": [
    "## Données du problème"
   ]
  },
  {
   "cell_type": "markdown",
   "id": "9c2d5852",
   "metadata": {},
   "source": [
    "### Représentation du graphe\n",
    "\n",
    "Le système est modélisé par un **graphe orienté et pondéré** : $ G = (V, E) $\n",
    "\n",
    "avec :\n",
    "- $ V = \\{v_0, v_1, \\dots, v_n\\} $   Ensemble des **sommets**, représentant les villes ou les points à visiter.\n",
    "\n",
    "- $ E \\subseteq V \\times V $  Ensemble des **arêtes**, représentant les routes entre les villes.\n",
    "\n",
    "- Chaque arête $ (v_i, v_j) \\in \\ E $ est associée à un **coût** : $ c_{ij} \\in \\mathbb{R}^{+} $. Ce coût peut représenter un **temps de trajet**, une **distance** ou un **coût monétaire**.\n",
    "\n",
    "- Un dépôt $ v_0 $ (point de départ et d’arrivée des tournées)\n",
    "\n",
    "- Un ensemble de $ k $ véhicules, chacun ayant une tournée qui commence et se termine à $ v_0 $\n",
    "\n"
   ]
  },
  {
   "cell_type": "markdown",
   "metadata": {},
   "source": [
    "### Objectif\n",
    "\n",
    "Trouver un ensemble de $ k $ tournées (une par véhicule) telles que :\n",
    "\n",
    "- Chaque client est visité une seule fois par un seul véhicule\n",
    "- Le coût total des tournées est **minimisé** (ex. : distance, temps ou coût total)\n"
   ]
  },
  {
   "cell_type": "markdown",
   "metadata": {},
   "source": [
    "### Contraintes\n",
    "\n",
    "Nous avons choisi d’intégrer deux contraintes supplémentaires au problème de base :\n",
    "\n",
    "1. **Utilisation de plusieurs véhicules** : chaque véhicule part du dépôt, visite des clients, puis revient au dépôt.\n",
    "2. **Coût ou restriction de passage sur certaines arêtes** : certaines routes peuvent avoir un coût plus élevé (par exemple, travaux ou routes bloquées)"
   ]
  },
  {
   "cell_type": "markdown",
   "metadata": {},
   "source": [
    "## Réduction polynomiale VRP vers TSP:\n",
    "Le but de cette partie est de montrer que le VRP peut être réduit en temps polynomiale.\n",
    "- Le TSP consiste à trouver une tournée unique qui passe par tous les sommets une seule fois. \n",
    "- Le VRP consiste à trouver k tournées, chacune partant et revenant au dépôt $ v_0 $ , desservant tous les clients"
   ]
  },
  {
   "cell_type": "markdown",
   "metadata": {},
   "source": [
    "Pour transformer le VRP en TSP, on crée 𝑘 copies du dépôt dans le graphe. Ces copies représentent les 𝑘 tournées distinctes du VRP. En attribuant des coûts très élevés entre ces copies, on empêche le TSP de relier plusieurs dépôts dans une même boucle. Chaque copie devient ainsi le départ et l’arrivée d’une tournée spécifique, simulant l’utilisation de 𝑘 véhicules dans le TSP."
   ]
  },
  {
   "cell_type": "markdown",
   "id": "313a985c",
   "metadata": {},
   "source": [
    "### Références utiles\n",
    "\n",
    "- https://fr.wikipedia.org/wiki/Probl%C3%A8me_du_voyageur_de_commerce\n",
    "- https://fr.wikipedia.org/wiki/Probl%C3%A8me_de_tourn%C3%A9es_de_v%C3%A9hicules\n",
    "- Workshop"
   ]
  }
 ],
 "metadata": {
  "kernelspec": {
   "display_name": "Python 3",
   "language": "python",
   "name": "python3"
  },
  "language_info": {
   "codemirror_mode": {
    "name": "ipython",
    "version": 3
   },
   "file_extension": ".py",
   "mimetype": "text/x-python",
   "name": "python",
   "nbconvert_exporter": "python",
   "pygments_lexer": "ipython3",
   "version": "3.13.2"
  }
 },
 "nbformat": 4,
 "nbformat_minor": 5
}
