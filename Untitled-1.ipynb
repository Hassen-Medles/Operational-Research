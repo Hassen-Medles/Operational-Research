{
 "cells": [
  {
   "cell_type": "markdown",
   "id": "5f141283",
   "metadata": {},
   "source": [
    "# Import Required Libraries\n",
    "Import necessary libraries such as `networkx`, `matplotlib`, and `random`."
   ]
  },
  {
   "cell_type": "code",
   "execution_count": null,
   "id": "ae0c3e8f",
   "metadata": {},
   "outputs": [],
   "source": [
    "# Import Required Libraries\n",
    "import networkx as nx\n",
    "import matplotlib.pyplot as plt\n",
    "import random"
   ]
  },
  {
   "cell_type": "markdown",
   "id": "c1b112b2",
   "metadata": {},
   "source": [
    "# Generate Graph for VRP\n",
    "Create a weighted graph representing the VRP problem, including nodes, edges, and attributes like distance, cost, and time."
   ]
  }
 ],
 "metadata": {
  "language_info": {
   "name": "python"
  }
 },
 "nbformat": 4,
 "nbformat_minor": 5
}
