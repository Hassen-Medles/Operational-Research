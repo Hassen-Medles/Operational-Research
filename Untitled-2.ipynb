{
 "cells": [
  {
   "cell_type": "markdown",
   "id": "a0ca31d2",
   "metadata": {},
   "source": [
    "# Projet ADEME : Recherche opérationnelle"
   ]
  },
  {
   "cell_type": "markdown",
   "id": "a04a8805",
   "metadata": {},
   "source": [
    "### Importation des librairies"
   ]
  },
  {
   "cell_type": "code",
   "execution_count": null,
   "id": "3073c94b",
   "metadata": {},
   "outputs": [],
   "source": [
    "# Importer les bibliothèques nécessaires\n",
    "import pulp\n",
    "import random\n",
    "import itertools\n",
    "import networkx as nx\n",
    "import matplotlib.pyplot as plt\n",
    "import matplotlib.patches as mpatches\n",
    "from collections import deque\n",
    "import pandas as pd\n",
    "import time\n",
    "import copy"
   ]
  },
  {
   "cell_type": "markdown",
   "id": "f5e78477",
   "metadata": {},
   "source": [
    "### Fonctions générales"
   ]
  },
  {
   "cell_type": "code",
   "execution_count": null,
   "id": "b9b3e3de",
   "metadata": {},
   "outputs": [],
   "source": [
    "def generate_graph(n, restricted_edge=0.1, distance_range=(1, 100), time_range=(1, 60)):\n",
    "    # Crée un graphe complet avec n sommets\n",
    "    G = nx.complete_graph(n)\n",
    "\n",
    "    # Parcourt toutes les arêtes du graphe\n",
    "    for u, v in G.edges():\n",
    "        # Pour chaque arête, on attribue une distance et un temps\n",
    "        # Avec une probabilité 'restricted_edge', on met une valeur élevée (999) pour simuler une contrainte\n",
    "        G[u][v]['distance'] = 999 if random.random() < restricted_edge else random.randint(*distance_range)\n",
    "        G[u][v]['time'] = 999 if random.random() < restricted_edge else random.randint(*time_range)\n",
    "\n",
    "    return G\n",
    "\n",
    "def draw_graph(G, routes=None, depots=[0], title=\"Graphe complet généré aléatoirement\"):\n",
    "    # Calcule les positions des nœuds pour affichage (mise en page stable grâce à seed=42)\n",
    "    pos = nx.spring_layout(G, seed=42)\n",
    "\n",
    "    # Prépare les étiquettes des arêtes avec distance et temps\n",
    "    edge_labels = {(u, v): f\"D:{G.edges[u, v]['distance']}, T:{G.edges[u, v]['time']}\" for u, v in G.edges}\n",
    "\n",
    "    plt.figure(figsize=(8, 5))\n",
    "    plt.title(title)\n",
    "\n",
    "    # Affiche les nœuds : verts pour les dépôts, bleus sinon\n",
    "    nx.draw_networkx_nodes(G, pos, node_color=['lightgreen' if n in depots else 'lightblue' for n in G.nodes], node_size=250)\n",
    "\n",
    "    # Affiche les étiquettes des nœuds (identifiants)\n",
    "    nx.draw_networkx_labels(G, pos, font_size=7)\n",
    "\n",
    "    # Affiche les arêtes en gris clair par défaut\n",
    "    nx.draw_networkx_edges(G, pos, alpha=0.2)\n",
    "\n",
    "    # Si des routes sont fournies, on les dessine en couleurs plus visibles\n",
    "    if routes:\n",
    "        line_color = [\"red\", \"blue\", \"green\", \"orange\", \"purple\"]\n",
    "        for k, edges in enumerate(routes):\n",
    "            nx.draw_networkx_edges(G, pos, edgelist=edges, width=1.5, edge_color=line_color[k % len(line_color)])\n",
    "\n",
    "    # Affiche les étiquettes des arêtes (distance et temps)\n",
    "    nx.draw_networkx_edge_labels(G, pos, edge_labels=edge_labels, font_size=6)\n",
    "\n",
    "    plt.show()\n",
    "\n",
    "def print_solution_summary(G, routes, depot=0):\n",
    "    # Calcule les coûts globaux (somme des distances et des temps)\n",
    "    total_distance = sum(G.edges[u, v]['distance'] for edges in routes for u, v in edges)\n",
    "    total_time = max(sum(G.edges[u, v]['time'] for u, v in edges) for edges in routes)\n",
    "\n",
    "    # Affiche le résumé global\n",
    "    print(\"\\n\\033[1mRÉSUMÉ GLOBAL\\033[0m\")\n",
    "    print(f\"Distance totale : {total_distance}\")\n",
    "    print(f\"Temps max       : {total_time}\")\n",
    "\n",
    "    # En-tête du tableau\n",
    "    header = f\"\\n\\033[1m{'Camion':<8}{'Distance':>12}{'Temps':>10}   Tournée\\033[0m\"\n",
    "    print(header)\n",
    "    print(\"-\" * (len(header) - 11))\n",
    "\n",
    "    # Affiche le détail de chaque tournée (par camion)\n",
    "    for k, edges in enumerate(routes):\n",
    "        # Calcule la distance et le temps pour chaque camion\n",
    "        dist = sum(G.edges[u, v]['distance'] for u, v in edges)\n",
    "        t = sum(G.edges[u, v]['time'] for u, v in edges)\n",
    "\n",
    "        # --- tentative de reconstruction du chemin dans l'ordre ---\n",
    "        path = [depot]\n",
    "        remaining = edges.copy()\n",
    "        while remaining:\n",
    "            for idx, (i, j) in enumerate(remaining):\n",
    "                if i == path[-1]:\n",
    "                    path.append(j)\n",
    "                    remaining.pop(idx)\n",
    "                    break\n",
    "                elif j == path[-1]:\n",
    "                    path.append(i)\n",
    "                    remaining.pop(idx)\n",
    "                    break\n",
    "            else:\n",
    "                # Si on n'arrive pas à déterminer l'ordre du chemin, on ajoute tout ce qui reste à la suite\n",
    "                path.extend([edge for pair in remaining for edge in pair])\n",
    "                break\n",
    "\n",
    "        # Affiche le chemin de la tournée sous forme lisible\n",
    "        path_str = \" → \".join(map(str, path))\n",
    "        print(f\"{k:<8}{dist:>12}{t:>10}   {path_str}\")"
   ]
  },
  {
   "cell_type": "markdown",
   "id": "5e52f516",
   "metadata": {},
   "source": [
    "## Formulation formelle du problème\n",
    "Le **problème à résoudre** est une version plus complexe du célèbre **problème du voyageur de commerce (TSP)**."
   ]
  },
  {
   "cell_type": "markdown",
   "id": "c6891ec8",
   "metadata": {},
   "source": [
    "## Représentation graphique du VRP"
   ]
  },
  {
   "cell_type": "code",
   "execution_count": null,
   "id": "984c1ba4",
   "metadata": {},
   "outputs": [],
   "source": [
    "# Définition du nombre de sommets du graphe\n",
    "N = 5\n",
    "\n",
    "# Génère un graphe complet avec pondérations aléatoires sur les distances et temps\n",
    "G = generate_graph(N)\n",
    "\n",
    "# Renomme les sommets pour qu'ils aient des noms plus lisibles (V0, V1, ..., Vn)\n",
    "G = nx.relabel_nodes(G, lambda x: f\"V{x}\")\n",
    "\n",
    "# Dessine le graphe avec les poids affichés sur chaque arête\n",
    "# Le sommet 'V0' est défini comme dépôt\n",
    "draw_graph(G, depots=\"V0\", title=\"Graphe pondéré et non orienté pour le VRP\")\n",
    "\n",
    "# Affiche le graphe\n",
    "plt.show()"
   ]
  },
  {
   "cell_type": "markdown",
   "id": "e212539b",
   "metadata": {},
   "source": [
    "### Transformation du VRP en TSP"
   ]
  },
  {
   "cell_type": "code",
   "execution_count": null,
   "id": "cb9ec310",
   "metadata": {},
   "outputs": [],
   "source": [
    "# Nombre de sommets (clients + dépôt)\n",
    "N = 5\n",
    "# Nombre de camions\n",
    "K = 2\n",
    "\n",
    "# 1. Génère un graphe complet pondéré (distances et temps aléatoires)\n",
    "G = generate_graph(N)\n",
    "\n",
    "# Renomme les sommets : V0, V1, ..., VN\n",
    "G = nx.relabel_nodes(G, lambda x: f\"V{x}\")\n",
    "\n",
    "# 2. Duplique le dépôt (V0) en K copies : V0_1, V0_2, ..., V0_K\n",
    "clients = [n for n in G if n != \"V0\"]  # On récupère tous les clients (nœuds sauf le dépôt)\n",
    "for k in range(1, K + 1):\n",
    "    d = f\"V0_{k}\"  # Nouveau nom du dépôt pour le k-ième camion\n",
    "    # On ajoute des arêtes entre le dépôt dupliqué et les clients,\n",
    "    # en copiant les poids des arêtes initiales entre V0 et chaque client\n",
    "    G.add_edges_from((d, c, G[\"V0\"][c]) for c in clients)\n",
    "\n",
    "# 3. Ajoute des arêtes entre dépôts dupliqués avec un coût très élevé\n",
    "# Cela interdit au TSP de passer directement d’un dépôt à un autre\n",
    "depots = [f\"V0_{k}\" for k in range(1, K + 1)]\n",
    "for i in range(1, K + 1):\n",
    "    for j in range(i + 1, K + 1):\n",
    "        G.add_edge(f\"V0_{i}\", f\"V0_{j}\", distance=1e6, time=1e6)\n",
    "\n",
    "# 4. Supprime l’ancien dépôt original (\"V0\") du graphe\n",
    "G.remove_node(\"V0\")\n",
    "\n",
    "# 5. Dessine le graphe modifié avec les dépôts dupliqués mis en évidence\n",
    "draw_graph(G, depots=depots, title=\"Réduction polynomiale du VRP au TSP\")"
   ]
  },
  {
   "cell_type": "markdown",
   "id": "9d65da63",
   "metadata": {},
   "source": [
    "# Modélisation linéaire du problème de tournées de véhicules pour minimiser la distance (VRP)"
   ]
  }
 ],
 "metadata": {
  "language_info": {
   "name": "python"
  }
 },
 "nbformat": 4,
 "nbformat_minor": 5
}
